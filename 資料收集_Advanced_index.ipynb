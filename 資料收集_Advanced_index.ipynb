{
 "cells": [
  {
   "cell_type": "code",
   "execution_count": 1,
   "metadata": {},
   "outputs": [],
   "source": [
    "%matplotlib inline \n",
    "import requests \n",
    "import matplotlib.pyplot as plt \n",
    "import pandas as pd "
   ]
  },
  {
   "cell_type": "code",
   "execution_count": null,
   "metadata": {},
   "outputs": [],
   "source": [
    "from nba_api.stats.endpoints import playercareerstats, TeamDashboardByTeamPerformance, LeagueSeasonMatchups, PlayerGameLog, PlayerGameLogs\n",
    "from nba_api.stats.endpoints import leaguegamefinder, PlayerDashboardByTeamPerformance, TeamInfoCommon, CommonPlayerInfo, TeamGameLogs\n",
    "from nba_api.stats.static import teams\n",
    "from nba_api.stats.static import players\n",
    "import pandas as pd"
   ]
  },
  {
   "cell_type": "code",
   "execution_count": null,
   "metadata": {},
   "outputs": [],
   "source": [
    "# 看看資料的長相，以 team_id_nullable=1610612737, season_nullable='2005-06'  為例\n",
    "t_game_logs = TeamGameLogs(team_id_nullable=1610612737, season_nullable='2005-06')\n",
    "t_game_logs.get_data_frames()[0]"
   ]
  },
  {
   "cell_type": "code",
   "execution_count": null,
   "metadata": {},
   "outputs": [],
   "source": [
    "# 拿出所有比賽的 id\n",
    "game_ids = t_game_logs.get_data_frames()[0]['GAME_ID'].tolist()"
   ]
  },
  {
   "cell_type": "code",
   "execution_count": null,
   "metadata": {},
   "outputs": [],
   "source": [
    "from nba_api.stats.endpoints import BoxScoreAdvancedV2\n",
    "# 看看資料的長相，以 game_id='0021900969' 為例\n",
    "BoxScoreAdvancedV2(game_id='0021900969').get_data_frames()[0]"
   ]
  },
  {
   "cell_type": "code",
   "execution_count": null,
   "metadata": {},
   "outputs": [],
   "source": [
    "temp = pd.DataFrame()\n",
    "all_teams = teams.get_teams()\n",
    "# 全部隊伍的全部比賽的球員表現\n",
    "for team in all_teams:\n",
    "    # 某支球隊的 game log\n",
    "    t_game_logs = TeamGameLogs(team_id_nullable=team['id'], season_nullable='2018-19')\n",
    "    game_ids = t_game_logs.get_data_frames()[0]['GAME_ID'].tolist()\n",
    "    for game_id in game_ids:\n",
    "        # 某場比賽(兩隊的)球員表現\n",
    "        PIE = BoxScoreAdvancedV2(game_id=game_id, timeout=30000).get_data_frames()[0]\n",
    "        temp = pd.concat([temp, PIE], axis=0)\n",
    "        temp.drop_duplicates(keep='first',inplace=True)"
   ]
  },
  {
   "cell_type": "code",
   "execution_count": null,
   "metadata": {},
   "outputs": [],
   "source": [
    "temp.to_csv('advanced/PlayerIndexPIE2018.csv')"
   ]
  },
  {
   "cell_type": "markdown",
   "metadata": {},
   "source": [
    "#### 上述收集資料的  season_nullable 的部分，在實際收集資料的時候，手動更改年份在寫進'PlayerIndexPIE&lt;year&gt;.csv'"
   ]
  },
  {
   "cell_type": "code",
   "execution_count": null,
   "metadata": {},
   "outputs": [],
   "source": []
  }
 ],
 "metadata": {
  "kernelspec": {
   "display_name": "Selenium",
   "language": "python",
   "name": "myenv"
  },
  "language_info": {
   "codemirror_mode": {
    "name": "ipython",
    "version": 3
   },
   "file_extension": ".py",
   "mimetype": "text/x-python",
   "name": "python",
   "nbconvert_exporter": "python",
   "pygments_lexer": "ipython3",
   "version": "3.7.6"
  }
 },
 "nbformat": 4,
 "nbformat_minor": 2
}
